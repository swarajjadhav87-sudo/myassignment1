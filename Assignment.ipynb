{
  "nbformat": 4,
  "nbformat_minor": 0,
  "metadata": {
    "colab": {
      "provenance": [],
      "toc_visible": true
    },
    "kernelspec": {
      "name": "python3",
      "display_name": "Python 3"
    },
    "language_info": {
      "name": "python"
    }
  },
  "cells": [
    {
      "cell_type": "code",
      "execution_count": null,
      "metadata": {
        "id": "DfoxroVMl6K8"
      },
      "outputs": [],
      "source": [
        "#task1\n",
        "#create a folder\n",
        "mkdir asgn1\n",
        "cd asgn1\n",
        "#create a file\n",
        "touch Code.txt Log.txt Output.txt\n",
        "#initialize a git\n",
        "git init\n",
        "#stage the file you want to commit\n",
        "git init Code.txt Output.txt\n",
        "#Commit the staged files\n",
        "git commit -m \"Added Code.txt and Output.txt\"\n",
        "#Connect local repo to GitHub\n",
        "git branch -M main\n",
        "git remote add origin https://github.com/swarajjadhav87-sudo/myasign.git\n",
        "#Push to GitHub\n",
        "git push -u origin main\n",
        "\n",
        "\n"
      ]
    }
  ]
}